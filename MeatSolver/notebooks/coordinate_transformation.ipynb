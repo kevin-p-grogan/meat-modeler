{
 "cells": [
  {
   "cell_type": "markdown",
   "id": "9c0c3cb5-233e-4e0b-a190-6e5c564e1fb8",
   "metadata": {},
   "source": [
    "This notebooks investigates the coordinate transformations from cylindrical"
   ]
  },
  {
   "cell_type": "code",
   "execution_count": 59,
   "id": "1e1e2bb2-be8e-4761-8b6c-11df3533168a",
   "metadata": {},
   "outputs": [],
   "source": [
    "import sympy as sp\n",
    "from typing import *\n",
    "from itertools import combinations_with_replacement, product"
   ]
  },
  {
   "cell_type": "code",
   "execution_count": 2,
   "id": "e672d0ca-a259-4af5-88f9-e52a9a53ffc2",
   "metadata": {},
   "outputs": [
    {
     "name": "stdout",
     "output_type": "stream",
     "text": [
      "Found value error as expected.\n",
      "Transformation relations cannot contain the original coordinate. Found x in x + 1.\n"
     ]
    }
   ],
   "source": [
    "# formulas taken from http://eng-web1.eng.famu.fsu.edu/~dommelen/pdes/style_a/nt_trans.html#note:trans\n",
    "def compute_first_order_transformation(\n",
    "    u: sp.Function, \n",
    "    xs: List[sp.Symbol], \n",
    "    zs: List[sp.Symbol], \n",
    "    x_o_zs: List[sp.Expr],\n",
    "    z_o_xs: List[sp.Expr]) -> Dict[sp.Function, sp.Expr]:\n",
    "    \"\"\"Builds a dictionary of the of the first order coordinate transformations\"\"\"\n",
    "    \n",
    "    check_consistency(xs, x_o_zs)\n",
    "    check_consistency(zs, z_o_xs)\n",
    "    \n",
    "    du_dxs = {}\n",
    "    for x in xs:\n",
    "        du_dx = 0\n",
    "        for z_o_x, z in zip(z_o_xs, zs):\n",
    "            dz_dx = sp.diff(z_o_x, x)\n",
    "            du_dz = u(*zs).diff(z)\n",
    "            du_dx += du_dz * dz_dx\n",
    "        \n",
    "        du_dx = make_substitutions(du_dx, xs, x_o_zs)\n",
    "        du_dxs[u(*xs).diff(x)] = du_dx.simplify()\n",
    "        \n",
    "    return du_dxs\n",
    "\n",
    "\n",
    "def check_consistency(xs: List[sp.Symbol], x_o_zs: List[sp.Expr]):\n",
    "    for x_o_z, x in zip(x_o_zs, xs):\n",
    "        _, symbols = x_o_z.as_terms()\n",
    "        if x in symbols:\n",
    "            raise ValueError(f\"Transformation relations cannot contain the original coordinate. Found {x} in {x_o_z}.\")\n",
    "\n",
    "\n",
    "def make_substitutions(f: sp.Expr, xs: List[sp.Symbol], x_o_zs: List[sp.Expr]) -> sp.Expr:\n",
    "    f_with_substitutions = f\n",
    "    for x_o_z, x in zip(x_o_zs, xs):\n",
    "        f_with_substitutions = f_with_substitutions.subs(x, x_o_z)\n",
    "        \n",
    "    return f_with_substitutions\n",
    "\n",
    "def compute_second_order_transformations(\n",
    "    u: sp.Function, \n",
    "    xs: List[sp.Symbol], \n",
    "    zs: List[sp.Symbol],\n",
    "    x_o_zs: List[sp.Expr],\n",
    "    z_o_xs: List[sp.Expr]) -> Dict[sp.Function, sp.Expr]:\n",
    "    \n",
    "    check_consistency(xs, x_o_zs)\n",
    "    check_consistency(zs, z_o_xs)\n",
    "    \n",
    "    d2u_dxidxjs = {}\n",
    "    for xi, xj in combinations_with_replacement(xs, 2):\n",
    "        d2u_dxidxj = 0\n",
    "        for zk_o_x, zk in zip(z_o_xs, zs):\n",
    "            du_dzk = u(*zs).diff(zk)\n",
    "            d2zk_dxidxj = sp.diff(zk_o_x, xi, xj)\n",
    "            d2u_dxidxj += du_dzk * d2zk_dxidxj\n",
    "            second_order_terms = 0\n",
    "            for zl_o_x, zl in zip(z_o_xs, zs):\n",
    "                d2u_dzkdzl = u(*zs).diff(zk, zl)\n",
    "                dzl_dxj = zl_o_x.diff(xj)\n",
    "                second_order_terms += d2u_dzkdzl * dzl_dxj\n",
    "            \n",
    "            dzk_dxi = zk_o_x.diff(xi) \n",
    "            d2u_dxidxj += second_order_terms * dzk_dxi\n",
    "            \n",
    "        d2u_dxidxj = make_substitutions(d2u_dxidxj, xs, x_o_zs)\n",
    "        d2u_dxidxjs[u(*xs).diff(xi, xj)] = d2u_dxidxj.simplify()\n",
    "    \n",
    "    return d2u_dxidxjs\n",
    "\n",
    "try:\n",
    "    x = sp.symbols(\"x\")\n",
    "    check_consistency([x], [x+1])\n",
    "except ValueError as e:\n",
    "    print(\"Found value error as expected.\")\n",
    "    print(e)"
   ]
  },
  {
   "cell_type": "code",
   "execution_count": 3,
   "id": "01f36070-2358-4365-9377-12c608c7990a",
   "metadata": {},
   "outputs": [
    {
     "data": {
      "text/latex": [
       "$\\displaystyle \\frac{\\rho^{2} \\frac{\\partial^{2}}{\\partial \\rho^{2}} u{\\left(\\rho,\\theta \\right)} + \\sqrt{\\rho^{2}} \\frac{\\partial}{\\partial \\rho} u{\\left(\\rho,\\theta \\right)} + \\frac{\\partial^{2}}{\\partial \\theta^{2}} u{\\left(\\rho,\\theta \\right)}}{\\rho^{2}}$"
      ],
      "text/plain": [
       "(\\rho**2*Derivative(u(\\rho, \\theta), (\\rho, 2)) + sqrt(\\rho**2)*Derivative(u(\\rho, \\theta), \\rho) + Derivative(u(\\rho, \\theta), (\\theta, 2)))/\\rho**2"
      ]
     },
     "execution_count": 3,
     "metadata": {},
     "output_type": "execute_result"
    }
   ],
   "source": [
    "#test with cartesian to cylindrical conversion\n",
    "x, y, rho, th = sp.symbols(r\"x y \\rho \\theta\")\n",
    "u = sp.Function(\"u\")\n",
    "rho_exp = sp.sqrt(x**2 + y**2)\n",
    "th_exp = sp.atan2(y, x)\n",
    "x_exp = rho * sp.cos(th)\n",
    "y_exp = rho * sp.sin(th)\n",
    "sot = compute_second_order_transformations(u, [x, y], [rho, th], [x_exp, y_exp], [rho_exp, th_exp])\n",
    "assert len(sot) == 3\n",
    "(sot[u(x,y).diff(x, x)] + sot[u(x,y).diff(y, y)]).simplify()"
   ]
  },
  {
   "cell_type": "code",
   "execution_count": 4,
   "id": "1628560c-6a33-4609-b6aa-bdd1af58d364",
   "metadata": {},
   "outputs": [],
   "source": [
    "# defined the symbolic variables and function\n",
    "z, xi, rho, a, p, r, f, theta, phi, kappa, Nu_D = sp.symbols(r\"z xi \\rho a p r f \\theta \\phi \\kappa \\mathrm{Nu}_{D}\")\n",
    "th = sp.Function(\"\\Theta\")"
   ]
  },
  {
   "cell_type": "code",
   "execution_count": 5,
   "id": "a95966e4-f016-481e-a24b-9785814d8a13",
   "metadata": {},
   "outputs": [
    {
     "data": {
      "text/latex": [
       "$\\displaystyle \\rho \\left(1 - \\frac{p \\xi}{a}\\right) \\left(- f \\sin{\\left(\\phi \\right)} + 1\\right)$"
      ],
      "text/plain": [
       "\\rho*(1 - p*xi/a)*(-f*sin(\\phi) + 1)"
      ]
     },
     "execution_count": 5,
     "metadata": {},
     "output_type": "execute_result"
    }
   ],
   "source": [
    "r_exp = rho * (1 - p*xi/a) * (1 - f * sp.sin(phi))\n",
    "r_exp"
   ]
  },
  {
   "cell_type": "code",
   "execution_count": 6,
   "id": "c01be2e7-fc03-4185-83f1-055dbaf11e63",
   "metadata": {},
   "outputs": [],
   "source": [
    "z_exp = xi * 1"
   ]
  },
  {
   "cell_type": "code",
   "execution_count": 7,
   "id": "0d1ae4f8-4d8a-4ffe-9d43-cfa4844acd77",
   "metadata": {},
   "outputs": [],
   "source": [
    "xi_exp = z * 1"
   ]
  },
  {
   "cell_type": "code",
   "execution_count": 8,
   "id": "079ff974-97af-4c68-a0a9-487ecf79d4a3",
   "metadata": {},
   "outputs": [],
   "source": [
    "theta_exp = phi*1"
   ]
  },
  {
   "cell_type": "code",
   "execution_count": 9,
   "id": "79cf2d31-63b4-41e0-b806-0cfc2ccaa96c",
   "metadata": {},
   "outputs": [],
   "source": [
    "phi_exp = theta*1"
   ]
  },
  {
   "cell_type": "code",
   "execution_count": 10,
   "id": "e22cd79a-62da-49b2-8a0c-f5bd3cef3758",
   "metadata": {},
   "outputs": [
    {
     "data": {
      "text/latex": [
       "$\\displaystyle \\frac{a r}{- a f \\sin{\\left(\\theta \\right)} + a + f p z \\sin{\\left(\\theta \\right)} - p z}$"
      ],
      "text/plain": [
       "a*r/(-a*f*sin(\\theta) + a + f*p*z*sin(\\theta) - p*z)"
      ]
     },
     "execution_count": 10,
     "metadata": {},
     "output_type": "execute_result"
    }
   ],
   "source": [
    "rho_exp = sp.solve(r_exp-r, rho)[0].subs(xi, xi_exp).subs(phi, phi_exp)\n",
    "rho_exp"
   ]
  },
  {
   "cell_type": "code",
   "execution_count": 11,
   "id": "824fe88b-8d2f-4a64-917f-79b011ded6f6",
   "metadata": {},
   "outputs": [],
   "source": [
    "d1 = compute_first_order_transformation(th, [r, z, theta], [rho, xi, phi], [r_exp, z_exp, theta_exp], [rho_exp, xi_exp, phi_exp])\n",
    "d2 = compute_second_order_transformations(th, [r, z, theta], [rho, xi, phi], [r_exp, z_exp, theta_exp], [rho_exp, xi_exp, phi_exp])"
   ]
  },
  {
   "cell_type": "code",
   "execution_count": 168,
   "id": "efe40a35-ad8e-4ae4-b501-4629620aeefb",
   "metadata": {},
   "outputs": [
    {
     "data": {
      "text/latex": [
       "$\\displaystyle \\frac{\\kappa \\left(2 \\rho^{2} a^{2} \\left(a^{2} - 2 a p \\xi + p^{2} \\xi^{2}\\right) \\left(a f \\sin{\\left(\\phi \\right)} - a - f p \\xi \\sin{\\left(\\phi \\right)} + p \\xi\\right) \\frac{\\partial^{2}}{\\partial \\rho^{2}} \\Theta{\\left(\\rho,\\xi,\\phi \\right)} + 2 \\rho^{2} \\left(a - p \\xi\\right)^{3} \\left(f \\sin{\\left(\\phi \\right)} - 1\\right)^{3} \\left(\\rho^{2} p^{2} \\frac{\\partial^{2}}{\\partial \\rho^{2}} \\Theta{\\left(\\rho,\\xi,\\phi \\right)} + 2 \\rho a p \\frac{\\partial^{2}}{\\partial \\xi\\partial \\rho} \\Theta{\\left(\\rho,\\xi,\\phi \\right)} - 2 \\rho p^{2} \\xi \\frac{\\partial^{2}}{\\partial \\xi\\partial \\rho} \\Theta{\\left(\\rho,\\xi,\\phi \\right)} + 2 \\rho p^{2} \\frac{\\partial}{\\partial \\rho} \\Theta{\\left(\\rho,\\xi,\\phi \\right)} + a^{2} \\frac{\\partial^{2}}{\\partial \\xi^{2}} \\Theta{\\left(\\rho,\\xi,\\phi \\right)} - 2 a p \\xi \\frac{\\partial^{2}}{\\partial \\xi^{2}} \\Theta{\\left(\\rho,\\xi,\\phi \\right)} + p^{2} \\xi^{2} \\frac{\\partial^{2}}{\\partial \\xi^{2}} \\Theta{\\left(\\rho,\\xi,\\phi \\right)}\\right) - 2 \\rho a \\left(a - p \\xi\\right)^{2} \\left(f \\sin{\\left(\\phi \\right)} - 1\\right)^{2} \\left(a^{2} - 2 a p \\xi + p^{2} \\xi^{2}\\right) \\frac{\\partial}{\\partial \\rho} \\Theta{\\left(\\rho,\\xi,\\phi \\right)} + \\left(a - p \\xi\\right)^{2} \\left(a^{2} - 2 a p \\xi + p^{2} \\xi^{2}\\right) \\left(a f \\sin{\\left(\\phi \\right)} - a - f p \\xi \\sin{\\left(\\phi \\right)} + p \\xi\\right) \\left(\\rho^{2} f^{2} \\cos{\\left(2 \\phi \\right)} \\frac{\\partial^{2}}{\\partial \\rho^{2}} \\Theta{\\left(\\rho,\\xi,\\phi \\right)} + \\rho^{2} f^{2} \\frac{\\partial^{2}}{\\partial \\rho^{2}} \\Theta{\\left(\\rho,\\xi,\\phi \\right)} - 2 \\rho f^{2} \\sin{\\left(2 \\phi \\right)} \\frac{\\partial^{2}}{\\partial \\rho\\partial \\phi} \\Theta{\\left(\\rho,\\xi,\\phi \\right)} + \\rho f^{2} \\cos{\\left(2 \\phi \\right)} \\frac{\\partial}{\\partial \\rho} \\Theta{\\left(\\rho,\\xi,\\phi \\right)} + 3 \\rho f^{2} \\frac{\\partial}{\\partial \\rho} \\Theta{\\left(\\rho,\\xi,\\phi \\right)} - 2 \\rho f \\sin{\\left(\\phi \\right)} \\frac{\\partial}{\\partial \\rho} \\Theta{\\left(\\rho,\\xi,\\phi \\right)} + 4 \\rho f \\cos{\\left(\\phi \\right)} \\frac{\\partial^{2}}{\\partial \\rho\\partial \\phi} \\Theta{\\left(\\rho,\\xi,\\phi \\right)} - f^{2} \\cos{\\left(2 \\phi \\right)} \\frac{\\partial^{2}}{\\partial \\phi^{2}} \\Theta{\\left(\\rho,\\xi,\\phi \\right)} + f^{2} \\frac{\\partial^{2}}{\\partial \\phi^{2}} \\Theta{\\left(\\rho,\\xi,\\phi \\right)} - 4 f \\sin{\\left(\\phi \\right)} \\frac{\\partial^{2}}{\\partial \\phi^{2}} \\Theta{\\left(\\rho,\\xi,\\phi \\right)} + 2 \\frac{\\partial^{2}}{\\partial \\phi^{2}} \\Theta{\\left(\\rho,\\xi,\\phi \\right)}\\right)\\right)}{2 \\rho^{2} \\left(a - p \\xi\\right)^{2} \\left(f \\sin{\\left(\\phi \\right)} - 1\\right)^{2} \\left(a^{2} - 2 a p \\xi + p^{2} \\xi^{2}\\right) \\left(a f \\sin{\\left(\\phi \\right)} - a - f p \\xi \\sin{\\left(\\phi \\right)} + p \\xi\\right)}$"
      ],
      "text/plain": [
       "\\kappa*(2*\\rho**2*a**2*(a**2 - 2*a*p*xi + p**2*xi**2)*(a*f*sin(\\phi) - a - f*p*xi*sin(\\phi) + p*xi)*Derivative(\\Theta(\\rho, xi, \\phi), (\\rho, 2)) + 2*\\rho**2*(a - p*xi)**3*(f*sin(\\phi) - 1)**3*(\\rho**2*p**2*Derivative(\\Theta(\\rho, xi, \\phi), (\\rho, 2)) + 2*\\rho*a*p*Derivative(\\Theta(\\rho, xi, \\phi), \\rho, xi) - 2*\\rho*p**2*xi*Derivative(\\Theta(\\rho, xi, \\phi), \\rho, xi) + 2*\\rho*p**2*Derivative(\\Theta(\\rho, xi, \\phi), \\rho) + a**2*Derivative(\\Theta(\\rho, xi, \\phi), (xi, 2)) - 2*a*p*xi*Derivative(\\Theta(\\rho, xi, \\phi), (xi, 2)) + p**2*xi**2*Derivative(\\Theta(\\rho, xi, \\phi), (xi, 2))) - 2*\\rho*a*(a - p*xi)**2*(f*sin(\\phi) - 1)**2*(a**2 - 2*a*p*xi + p**2*xi**2)*Derivative(\\Theta(\\rho, xi, \\phi), \\rho) + (a - p*xi)**2*(a**2 - 2*a*p*xi + p**2*xi**2)*(a*f*sin(\\phi) - a - f*p*xi*sin(\\phi) + p*xi)*(\\rho**2*f**2*cos(2*\\phi)*Derivative(\\Theta(\\rho, xi, \\phi), (\\rho, 2)) + \\rho**2*f**2*Derivative(\\Theta(\\rho, xi, \\phi), (\\rho, 2)) - 2*\\rho*f**2*sin(2*\\phi)*Derivative(\\Theta(\\rho, xi, \\phi), \\phi, \\rho) + \\rho*f**2*cos(2*\\phi)*Derivative(\\Theta(\\rho, xi, \\phi), \\rho) + 3*\\rho*f**2*Derivative(\\Theta(\\rho, xi, \\phi), \\rho) - 2*\\rho*f*sin(\\phi)*Derivative(\\Theta(\\rho, xi, \\phi), \\rho) + 4*\\rho*f*cos(\\phi)*Derivative(\\Theta(\\rho, xi, \\phi), \\phi, \\rho) - f**2*cos(2*\\phi)*Derivative(\\Theta(\\rho, xi, \\phi), (\\phi, 2)) + f**2*Derivative(\\Theta(\\rho, xi, \\phi), (\\phi, 2)) - 4*f*sin(\\phi)*Derivative(\\Theta(\\rho, xi, \\phi), (\\phi, 2)) + 2*Derivative(\\Theta(\\rho, xi, \\phi), (\\phi, 2))))/(2*\\rho**2*(a - p*xi)**2*(f*sin(\\phi) - 1)**2*(a**2 - 2*a*p*xi + p**2*xi**2)*(a*f*sin(\\phi) - a - f*p*xi*sin(\\phi) + p*xi))"
      ]
     },
     "execution_count": 168,
     "metadata": {},
     "output_type": "execute_result"
    }
   ],
   "source": [
    "heat_equation_rhs = kappa * (1/rho * d1[th(r, z, theta).diff(r)] + d2[th(r, z, theta).diff(r,r)] + d2[th(r, z, theta).diff(z,z)] + 1/rho**2 * d2[th(r, z, theta).diff(theta,theta)]).simplify()\n",
    "heat_equation_rhs"
   ]
  },
  {
   "cell_type": "code",
   "execution_count": 178,
   "id": "9221af6d-b8e3-4aae-8477-a3d0fed0f85f",
   "metadata": {},
   "outputs": [
    {
     "name": "stdout",
     "output_type": "stream",
     "text": [
      "\\kappa*(c_1*(\\rho**2*p**2*Derivative(\\Theta(\\rho, xi, \\phi), (\\rho, 2)) + 2*\\rho*a*p*Derivative(\\Theta(\\rho, xi, \\phi), \\rho, xi) - 2*\\rho*p**2*xi*Derivative(\\Theta(\\rho, xi, \\phi), \\rho, xi) + 2*\\rho*p**2*Derivative(\\Theta(\\rho, xi, \\phi), \\rho) + a**2*Derivative(\\Theta(\\rho, xi, \\phi), (xi, 2)) - 2*a*p*xi*Derivative(\\Theta(\\rho, xi, \\phi), (xi, 2)) + p**2*xi**2*Derivative(\\Theta(\\rho, xi, \\phi), (xi, 2))) + c_2*Derivative(\\Theta(\\rho, xi, \\phi), (\\rho, 2)) + c_3*Derivative(\\Theta(\\rho, xi, \\phi), \\rho) + c_4*(\\rho**2*f**2*cos(2*\\phi)*Derivative(\\Theta(\\rho, xi, \\phi), (\\rho, 2)) + \\rho**2*f**2*Derivative(\\Theta(\\rho, xi, \\phi), (\\rho, 2)) - 2*\\rho*f**2*sin(2*\\phi)*Derivative(\\Theta(\\rho, xi, \\phi), \\phi, \\rho) + \\rho*f**2*cos(2*\\phi)*Derivative(\\Theta(\\rho, xi, \\phi), \\rho) + 3*\\rho*f**2*Derivative(\\Theta(\\rho, xi, \\phi), \\rho) - 2*\\rho*f*sin(\\phi)*Derivative(\\Theta(\\rho, xi, \\phi), \\rho) + 4*\\rho*f*cos(\\phi)*Derivative(\\Theta(\\rho, xi, \\phi), \\phi, \\rho) - f**2*cos(2*\\phi)*Derivative(\\Theta(\\rho, xi, \\phi), (\\phi, 2)) + f**2*Derivative(\\Theta(\\rho, xi, \\phi), (\\phi, 2)) - 4*f*sin(\\phi)*Derivative(\\Theta(\\rho, xi, \\phi), (\\phi, 2)) + 2*Derivative(\\Theta(\\rho, xi, \\phi), (\\phi, 2))))/c_0\n"
     ]
    },
    {
     "data": {
      "text/latex": [
       "$\\displaystyle \\frac{\\kappa \\left(c_{1} \\left(\\rho^{2} p^{2} \\frac{\\partial^{2}}{\\partial \\rho^{2}} \\Theta{\\left(\\rho,\\xi,\\phi \\right)} + 2 \\rho a p \\frac{\\partial^{2}}{\\partial \\xi\\partial \\rho} \\Theta{\\left(\\rho,\\xi,\\phi \\right)} - 2 \\rho p^{2} \\xi \\frac{\\partial^{2}}{\\partial \\xi\\partial \\rho} \\Theta{\\left(\\rho,\\xi,\\phi \\right)} + 2 \\rho p^{2} \\frac{\\partial}{\\partial \\rho} \\Theta{\\left(\\rho,\\xi,\\phi \\right)} + a^{2} \\frac{\\partial^{2}}{\\partial \\xi^{2}} \\Theta{\\left(\\rho,\\xi,\\phi \\right)} - 2 a p \\xi \\frac{\\partial^{2}}{\\partial \\xi^{2}} \\Theta{\\left(\\rho,\\xi,\\phi \\right)} + p^{2} \\xi^{2} \\frac{\\partial^{2}}{\\partial \\xi^{2}} \\Theta{\\left(\\rho,\\xi,\\phi \\right)}\\right) + c_{2} \\frac{\\partial^{2}}{\\partial \\rho^{2}} \\Theta{\\left(\\rho,\\xi,\\phi \\right)} + c_{3} \\frac{\\partial}{\\partial \\rho} \\Theta{\\left(\\rho,\\xi,\\phi \\right)} + c_{4} \\left(\\rho^{2} f^{2} \\cos{\\left(2 \\phi \\right)} \\frac{\\partial^{2}}{\\partial \\rho^{2}} \\Theta{\\left(\\rho,\\xi,\\phi \\right)} + \\rho^{2} f^{2} \\frac{\\partial^{2}}{\\partial \\rho^{2}} \\Theta{\\left(\\rho,\\xi,\\phi \\right)} - 2 \\rho f^{2} \\sin{\\left(2 \\phi \\right)} \\frac{\\partial^{2}}{\\partial \\rho\\partial \\phi} \\Theta{\\left(\\rho,\\xi,\\phi \\right)} + \\rho f^{2} \\cos{\\left(2 \\phi \\right)} \\frac{\\partial}{\\partial \\rho} \\Theta{\\left(\\rho,\\xi,\\phi \\right)} + 3 \\rho f^{2} \\frac{\\partial}{\\partial \\rho} \\Theta{\\left(\\rho,\\xi,\\phi \\right)} - 2 \\rho f \\sin{\\left(\\phi \\right)} \\frac{\\partial}{\\partial \\rho} \\Theta{\\left(\\rho,\\xi,\\phi \\right)} + 4 \\rho f \\cos{\\left(\\phi \\right)} \\frac{\\partial^{2}}{\\partial \\rho\\partial \\phi} \\Theta{\\left(\\rho,\\xi,\\phi \\right)} - f^{2} \\cos{\\left(2 \\phi \\right)} \\frac{\\partial^{2}}{\\partial \\phi^{2}} \\Theta{\\left(\\rho,\\xi,\\phi \\right)} + f^{2} \\frac{\\partial^{2}}{\\partial \\phi^{2}} \\Theta{\\left(\\rho,\\xi,\\phi \\right)} - 4 f \\sin{\\left(\\phi \\right)} \\frac{\\partial^{2}}{\\partial \\phi^{2}} \\Theta{\\left(\\rho,\\xi,\\phi \\right)} + 2 \\frac{\\partial^{2}}{\\partial \\phi^{2}} \\Theta{\\left(\\rho,\\xi,\\phi \\right)}\\right)\\right)}{c_{0}}$"
      ],
      "text/plain": [
       "\\kappa*(c_1*(\\rho**2*p**2*Derivative(\\Theta(\\rho, xi, \\phi), (\\rho, 2)) + 2*\\rho*a*p*Derivative(\\Theta(\\rho, xi, \\phi), \\rho, xi) - 2*\\rho*p**2*xi*Derivative(\\Theta(\\rho, xi, \\phi), \\rho, xi) + 2*\\rho*p**2*Derivative(\\Theta(\\rho, xi, \\phi), \\rho) + a**2*Derivative(\\Theta(\\rho, xi, \\phi), (xi, 2)) - 2*a*p*xi*Derivative(\\Theta(\\rho, xi, \\phi), (xi, 2)) + p**2*xi**2*Derivative(\\Theta(\\rho, xi, \\phi), (xi, 2))) + c_2*Derivative(\\Theta(\\rho, xi, \\phi), (\\rho, 2)) + c_3*Derivative(\\Theta(\\rho, xi, \\phi), \\rho) + c_4*(\\rho**2*f**2*cos(2*\\phi)*Derivative(\\Theta(\\rho, xi, \\phi), (\\rho, 2)) + \\rho**2*f**2*Derivative(\\Theta(\\rho, xi, \\phi), (\\rho, 2)) - 2*\\rho*f**2*sin(2*\\phi)*Derivative(\\Theta(\\rho, xi, \\phi), \\phi, \\rho) + \\rho*f**2*cos(2*\\phi)*Derivative(\\Theta(\\rho, xi, \\phi), \\rho) + 3*\\rho*f**2*Derivative(\\Theta(\\rho, xi, \\phi), \\rho) - 2*\\rho*f*sin(\\phi)*Derivative(\\Theta(\\rho, xi, \\phi), \\rho) + 4*\\rho*f*cos(\\phi)*Derivative(\\Theta(\\rho, xi, \\phi), \\phi, \\rho) - f**2*cos(2*\\phi)*Derivative(\\Theta(\\rho, xi, \\phi), (\\phi, 2)) + f**2*Derivative(\\Theta(\\rho, xi, \\phi), (\\phi, 2)) - 4*f*sin(\\phi)*Derivative(\\Theta(\\rho, xi, \\phi), (\\phi, 2)) + 2*Derivative(\\Theta(\\rho, xi, \\phi), (\\phi, 2))))/c_0"
      ]
     },
     "execution_count": 178,
     "metadata": {},
     "output_type": "execute_result"
    }
   ],
   "source": [
    "# manually separate out terms in the above equation to make downstream expansion and simplification easier.\n",
    "c_exps = []\n",
    "c_exps.append(2*rho**2*(a - p*xi)**2*(f*sp.sin(phi) - 1)**2*(a**2 - 2*a*p*xi + p**2*xi**2)*(a*f*sp.sin(phi) - a - f*p*xi*sp.sin(phi) + p*xi))\n",
    "c_exps.append(2*rho**2*(a - p*xi)**3*(f*sp.sin(phi) - 1)**3)\n",
    "c_exps.append(2*rho**2*a**2*(a**2 - 2*a*p*xi + p**2*xi**2)*(a*f*sp.sin(phi) - a - f*p*xi*sp.sin(phi) + p*xi))\n",
    "c_exps.append(-2*rho*a*(a - p*xi)**2*(f*sp.sin(phi) - 1)**2*(a**2 - 2*a*p*xi + p**2*xi**2))\n",
    "c_exps.append((a - p*xi)**2*(a**2 - 2*a*p*xi + p**2*xi**2)*(a*f*sp.sin(phi) - a - f*p*xi*sp.sin(phi) + p*xi))\n",
    "# c_exps.append(rho*a**2*(a**2 - 2*a*p*xi + p**2*xi**2)*(a*f*sp.sin(phi) - a - f*p*xi*sp.sin(phi) + p*xi))\n",
    "# c_exps.append(a*(a - p*xi)**2*(f*sp.sin(phi) - 1)**2*(a**2 - 2*a*p*xi + p**2*xi**2))\n",
    "# c_exps.append(rho*(a - p*xi)**3*(f*sp.sin(phi) - 1)**3)\n",
    "# c_exps.append(rho*(a - p*xi)**2*(f*sp.sin(phi) - 1)**2*(a**2 - 2*a*p*xi + p**2*xi**2)*(a*f*sp.sin(phi) - a - f*p*xi*sp.sin(phi) + p*xi))\n",
    "cs = sp.symbols(\" \".join((f\"c_{i}\" for i in range(len(c_exps)))))\n",
    "simplified_rhs = heat_equation_rhs\n",
    "for c_exp, c in zip(c_exps, cs):\n",
    "    simplified_rhs = simplified_rhs.subs(c_exp, c)\n",
    "\n",
    "print(simplified_rhs)\n",
    "simplified_rhs"
   ]
  },
  {
   "cell_type": "code",
   "execution_count": 179,
   "id": "741aa1ba-c32b-413e-9fe4-f7bba15176d5",
   "metadata": {},
   "outputs": [
    {
     "name": "stdout",
     "output_type": "stream",
     "text": [
      "{Derivative(\\Theta(\\rho, xi, \\phi), \\rho): 2*\\kappa*\\rho*c_1*p**2/c_0 + \\kappa*\\rho*c_4*f**2*cos(2*\\phi)/c_0 + 3*\\kappa*\\rho*c_4*f**2/c_0 - 2*\\kappa*\\rho*c_4*f*sin(\\phi)/c_0 + \\kappa*c_3/c_0, Derivative(\\Theta(\\rho, xi, \\phi), xi): 0, Derivative(\\Theta(\\rho, xi, \\phi), \\phi): 0, Derivative(\\Theta(\\rho, xi, \\phi), (\\rho, 2)): \\kappa*\\rho**2*c_1*p**2/c_0 + \\kappa*\\rho**2*c_4*f**2*cos(2*\\phi)/c_0 + \\kappa*\\rho**2*c_4*f**2/c_0 + \\kappa*c_2/c_0, Derivative(\\Theta(\\rho, xi, \\phi), \\rho, xi): 2*\\kappa*\\rho*a*c_1*p/c_0 - 2*\\kappa*\\rho*c_1*p**2*xi/c_0, Derivative(\\Theta(\\rho, xi, \\phi), \\phi, \\rho): -2*\\kappa*\\rho*c_4*f**2*sin(2*\\phi)/c_0 + 4*\\kappa*\\rho*c_4*f*cos(\\phi)/c_0, Derivative(\\Theta(\\rho, xi, \\phi), (xi, 2)): \\kappa*a**2*c_1/c_0 - 2*\\kappa*a*c_1*p*xi/c_0 + \\kappa*c_1*p**2*xi**2/c_0, Derivative(\\Theta(\\rho, xi, \\phi), \\phi, xi): 0, Derivative(\\Theta(\\rho, xi, \\phi), (\\phi, 2)): -\\kappa*c_4*f**2*cos(2*\\phi)/c_0 + \\kappa*c_4*f**2/c_0 - 4*\\kappa*c_4*f*sin(\\phi)/c_0 + 2*\\kappa*c_4/c_0}\n"
     ]
    }
   ],
   "source": [
    "def get_coefficients(expr, terms: List) -> Dict:\n",
    "    coefficients = {}\n",
    "    expaned_expr = expr.expand()\n",
    "    for term in terms:\n",
    "        coefficient = expaned_expr.coeff(term)\n",
    "        coefficient.simplify()\n",
    "        coefficients[term] = coefficient\n",
    "\n",
    "    return coefficients\n",
    "\n",
    "variables = rho, xi, phi\n",
    "first_order_terms = [th(*variables).diff(variable) for variable in variables]\n",
    "second_order_terms = [first_order_term.diff(variable) for first_order_term, variable in product(first_order_terms, variables)]\n",
    "rhs_coefficients = get_coefficients(simplified_rhs, first_order_terms + second_order_terms)\n",
    "print(rhs_coefficients)"
   ]
  },
  {
   "cell_type": "code",
   "execution_count": 180,
   "id": "0a84b37a-4715-474e-8760-a6822fa19c32",
   "metadata": {},
   "outputs": [
    {
     "name": "stdout",
     "output_type": "stream",
     "text": [
      "Coefficients for each term on the right-hand-side of the heat equation.\n",
      "Derivative(\\Theta(\\rho, xi, \\phi), \\rho):\n",
      "\t2*\\kappa*\\rho*p**2*(a - p*xi)*(f*sin(\\phi) - 1)/((a**2 - 2*a*p*xi + p**2*xi**2)*(a*f*sin(\\phi) - a - f*p*xi*sin(\\phi) + p*xi)) - \\kappa*a/(\\rho*(a*f*sin(\\phi) - a - f*p*xi*sin(\\phi) + p*xi)) + \\kappa*f**2*cos(2*\\phi)/(2*\\rho*(f*sin(\\phi) - 1)**2) + 3*\\kappa*f**2/(2*\\rho*(f*sin(\\phi) - 1)**2) - \\kappa*f*sin(\\phi)/(\\rho*(f*sin(\\phi) - 1)**2)\n",
      "\n",
      "Derivative(\\Theta(\\rho, xi, \\phi), (\\rho, 2)):\n",
      "\t\\kappa*\\rho**2*p**2*(a - p*xi)*(f*sin(\\phi) - 1)/((a**2 - 2*a*p*xi + p**2*xi**2)*(a*f*sin(\\phi) - a - f*p*xi*sin(\\phi) + p*xi)) + \\kappa*a**2/((a - p*xi)**2*(f*sin(\\phi) - 1)**2) + \\kappa*f**2*cos(2*\\phi)/(2*(f*sin(\\phi) - 1)**2) + \\kappa*f**2/(2*(f*sin(\\phi) - 1)**2)\n",
      "\n",
      "Derivative(\\Theta(\\rho, xi, \\phi), \\rho, xi):\n",
      "\t2*\\kappa*\\rho*a*p*(a - p*xi)*(f*sin(\\phi) - 1)/((a**2 - 2*a*p*xi + p**2*xi**2)*(a*f*sin(\\phi) - a - f*p*xi*sin(\\phi) + p*xi)) - 2*\\kappa*\\rho*p**2*xi*(a - p*xi)*(f*sin(\\phi) - 1)/((a**2 - 2*a*p*xi + p**2*xi**2)*(a*f*sin(\\phi) - a - f*p*xi*sin(\\phi) + p*xi))\n",
      "\n",
      "Derivative(\\Theta(\\rho, xi, \\phi), \\phi, \\rho):\n",
      "\t-\\kappa*f**2*sin(2*\\phi)/(\\rho*(f*sin(\\phi) - 1)**2) + 2*\\kappa*f*cos(\\phi)/(\\rho*(f*sin(\\phi) - 1)**2)\n",
      "\n",
      "Derivative(\\Theta(\\rho, xi, \\phi), (xi, 2)):\n",
      "\t\\kappa*a**2*(a - p*xi)*(f*sin(\\phi) - 1)/((a**2 - 2*a*p*xi + p**2*xi**2)*(a*f*sin(\\phi) - a - f*p*xi*sin(\\phi) + p*xi)) - 2*\\kappa*a*p*xi*(a - p*xi)*(f*sin(\\phi) - 1)/((a**2 - 2*a*p*xi + p**2*xi**2)*(a*f*sin(\\phi) - a - f*p*xi*sin(\\phi) + p*xi)) + \\kappa*p**2*xi**2*(a - p*xi)*(f*sin(\\phi) - 1)/((a**2 - 2*a*p*xi + p**2*xi**2)*(a*f*sin(\\phi) - a - f*p*xi*sin(\\phi) + p*xi))\n",
      "\n",
      "Derivative(\\Theta(\\rho, xi, \\phi), (\\phi, 2)):\n",
      "\t-\\kappa*f**2*cos(2*\\phi)/(2*\\rho**2*(f*sin(\\phi) - 1)**2) + \\kappa*f**2/(2*\\rho**2*(f*sin(\\phi) - 1)**2) - 2*\\kappa*f*sin(\\phi)/(\\rho**2*(f*sin(\\phi) - 1)**2) + \\kappa/(\\rho**2*(f*sin(\\phi) - 1)**2)\n",
      "\n"
     ]
    }
   ],
   "source": [
    "print(\"Coefficients for each term on the right-hand-side of the heat equation.\")\n",
    "for term, simplified_coefficient in rhs_coefficients.items():\n",
    "    if simplified_coefficient != 0:\n",
    "        full_coefficient = simplified_coefficient\n",
    "        for c_exp, c in zip(c_exps, cs):\n",
    "            full_coefficient = full_coefficient.subs(c, c_exp)\n",
    "            full_coefficient.simplify()\n",
    "        print(f\"{term}:\")\n",
    "        print(f\"\\t{full_coefficient}\\n\")"
   ]
  },
  {
   "cell_type": "code",
   "execution_count": 164,
   "id": "15d21b5b-51af-4c56-8c36-1e798cd9bb2a",
   "metadata": {},
   "outputs": [
    {
     "data": {
      "text/latex": [
       "$\\displaystyle \\frac{\\kappa \\left(\\rho \\frac{\\partial^{2}}{\\partial \\rho^{2}} \\Theta{\\left(\\rho,\\xi,\\phi \\right)} + \\rho \\frac{\\partial^{2}}{\\partial \\xi^{2}} \\Theta{\\left(\\rho,\\xi,\\phi \\right)} + \\frac{\\partial}{\\partial \\rho} \\Theta{\\left(\\rho,\\xi,\\phi \\right)}\\right)}{\\rho}$"
      ],
      "text/plain": [
       "\\kappa*(\\rho*Derivative(\\Theta(\\rho, xi, \\phi), (\\rho, 2)) + \\rho*Derivative(\\Theta(\\rho, xi, \\phi), (xi, 2)) + Derivative(\\Theta(\\rho, xi, \\phi), \\rho))/\\rho"
      ]
     },
     "execution_count": 164,
     "metadata": {},
     "output_type": "execute_result"
    }
   ],
   "source": [
    "# sanity check to see if the 2D cylindrical heat equation is recovered\n",
    "sp.limit(sp.limit(rhs, p, 0), f, 0).simplify()"
   ]
  },
  {
   "cell_type": "code",
   "execution_count": 66,
   "id": "07367f97-d650-4907-b71a-15de19eefd21",
   "metadata": {},
   "outputs": [
    {
     "data": {
      "text/latex": [
       "$\\displaystyle \\left[\\begin{matrix}- \\frac{\\rho \\left(a - p \\xi\\right) \\left(f \\sin{\\left(\\phi \\right)} - 1\\right) \\cos{\\left(\\phi \\right)}}{a}\\\\- \\frac{\\rho \\left(a - p \\xi\\right) \\left(f \\sin{\\left(\\phi \\right)} - 1\\right) \\sin{\\left(\\phi \\right)}}{a}\\\\\\xi\\end{matrix}\\right]$"
      ],
      "text/plain": [
       "Matrix([\n",
       "[-\\rho*(a - p*xi)*(f*sin(\\phi) - 1)*cos(\\phi)/a],\n",
       "[-\\rho*(a - p*xi)*(f*sin(\\phi) - 1)*sin(\\phi)/a],\n",
       "[                                            xi]])"
      ]
     },
     "execution_count": 66,
     "metadata": {},
     "output_type": "execute_result"
    }
   ],
   "source": [
    "# define the boundary surface (except for the ends)\n",
    "r_surface = r_exp\n",
    "x_surface = (r_surface * sp.cos(phi))\n",
    "y_surface = (r_surface * sp.sin(phi))\n",
    "z_surface = xi\n",
    "s = sp.Matrix([x_surface.simplify(), y_surface.simplify(), z_surface])\n",
    "s"
   ]
  },
  {
   "cell_type": "code",
   "execution_count": 67,
   "id": "62b3740b-79d3-4f6a-bdbf-da0b26f76a87",
   "metadata": {},
   "outputs": [
    {
     "data": {
      "text/latex": [
       "$\\displaystyle \\left[\\begin{matrix}\\frac{\\rho \\left(a - p \\xi\\right) \\left(- f \\sin{\\left(2 \\phi \\right)} + \\cos{\\left(\\phi \\right)}\\right)}{a}\\\\\\frac{\\rho \\left(a - p \\xi\\right) \\left(- 2 f \\sin^{2}{\\left(\\phi \\right)} + f + \\sin{\\left(\\phi \\right)}\\right)}{a}\\\\\\frac{\\rho^{2} p \\left(a - p \\xi\\right) \\left(f \\sin{\\left(\\phi \\right)} - 1\\right)^{2}}{a^{2}}\\end{matrix}\\right]$"
      ],
      "text/plain": [
       "Matrix([\n",
       "[       \\rho*(a - p*xi)*(-f*sin(2*\\phi) + cos(\\phi))/a],\n",
       "[\\rho*(a - p*xi)*(-2*f*sin(\\phi)**2 + f + sin(\\phi))/a],\n",
       "[       \\rho**2*p*(a - p*xi)*(f*sin(\\phi) - 1)**2/a**2]])"
      ]
     },
     "execution_count": 67,
     "metadata": {},
     "output_type": "execute_result"
    }
   ],
   "source": [
    "#compute the normal vector (taken from https://en.wikipedia.org/wiki/Normal_(geometry))\n",
    "dsdxi = s.diff(xi)\n",
    "dsdphi = s.diff(phi)\n",
    "n = dsdphi.cross(dsdxi)\n",
    "n.simplify()\n",
    "n"
   ]
  },
  {
   "cell_type": "code",
   "execution_count": 68,
   "id": "01e93733-2846-473e-b1fb-cbc4668372b8",
   "metadata": {},
   "outputs": [
    {
     "data": {
      "text/latex": [
       "$\\displaystyle \\rho \\cos{\\left(\\phi \\right)}$"
      ],
      "text/plain": [
       "\\rho*cos(\\phi)"
      ]
     },
     "execution_count": 68,
     "metadata": {},
     "output_type": "execute_result"
    }
   ],
   "source": [
    "# x direction asymptotic\n",
    "sp.limit(sp.limit(n[0], p, 0), f, 0)"
   ]
  },
  {
   "cell_type": "code",
   "execution_count": 69,
   "id": "e098180d-8416-45dd-bd69-981a2938a2f2",
   "metadata": {},
   "outputs": [
    {
     "data": {
      "text/latex": [
       "$\\displaystyle \\rho \\sin{\\left(\\phi \\right)}$"
      ],
      "text/plain": [
       "\\rho*sin(\\phi)"
      ]
     },
     "execution_count": 69,
     "metadata": {},
     "output_type": "execute_result"
    }
   ],
   "source": [
    "# y direction asymptotic\n",
    "sp.limit(sp.limit(n[1], p, 0), f, 0)"
   ]
  },
  {
   "cell_type": "code",
   "execution_count": 70,
   "id": "8eb80027-724a-4a7f-a321-b829aa03b0ab",
   "metadata": {},
   "outputs": [
    {
     "data": {
      "text/latex": [
       "$\\displaystyle 0$"
      ],
      "text/plain": [
       "0"
      ]
     },
     "execution_count": 70,
     "metadata": {},
     "output_type": "execute_result"
    }
   ],
   "source": [
    "# z direction asymptotic\n",
    "sp.limit(sp.limit(n[2], p, 0), f, 0)"
   ]
  },
  {
   "cell_type": "code",
   "execution_count": 19,
   "id": "c2d2c8a6-0572-471b-bbe1-f8ab264fff0f",
   "metadata": {},
   "outputs": [
    {
     "data": {
      "text/latex": [
       "$\\displaystyle \\rho \\left(1 - \\frac{p \\xi}{a}\\right) \\left(- f \\sin{\\left(\\phi \\right)} + 1\\right) \\cos{\\left(\\phi \\right)}$"
      ],
      "text/plain": [
       "\\rho*(1 - p*xi/a)*(-f*sin(\\phi) + 1)*cos(\\phi)"
      ]
     },
     "execution_count": 19,
     "metadata": {},
     "output_type": "execute_result"
    }
   ],
   "source": [
    "# define the cartesian coordinate transformations\n",
    "x_exp = r_exp * sp.cos(phi)\n",
    "x_exp"
   ]
  },
  {
   "cell_type": "code",
   "execution_count": 20,
   "id": "f8568ad0-1221-434f-8d21-429a3a49037c",
   "metadata": {},
   "outputs": [
    {
     "data": {
      "text/latex": [
       "$\\displaystyle \\rho \\left(1 - \\frac{p \\xi}{a}\\right) \\left(- f \\sin{\\left(\\phi \\right)} + 1\\right) \\sin{\\left(\\phi \\right)}$"
      ],
      "text/plain": [
       "\\rho*(1 - p*xi/a)*(-f*sin(\\phi) + 1)*sin(\\phi)"
      ]
     },
     "execution_count": 20,
     "metadata": {},
     "output_type": "execute_result"
    }
   ],
   "source": [
    "y_exp = r_exp * sp.sin(phi)\n",
    "y_exp"
   ]
  },
  {
   "cell_type": "code",
   "execution_count": 21,
   "id": "be4f7522-c3ed-4cff-b5a4-0c23d58c9314",
   "metadata": {},
   "outputs": [
    {
     "data": {
      "text/latex": [
       "$\\displaystyle \\xi$"
      ],
      "text/plain": [
       "xi"
      ]
     },
     "execution_count": 21,
     "metadata": {},
     "output_type": "execute_result"
    }
   ],
   "source": [
    "z_exp = xi\n",
    "z_exp"
   ]
  },
  {
   "cell_type": "code",
   "execution_count": 22,
   "id": "3ec40aea-ac10-4373-b3fe-9f6fbc3e23b6",
   "metadata": {},
   "outputs": [
    {
     "data": {
      "text/latex": [
       "$\\displaystyle \\operatorname{atan_{2}}{\\left(y,x \\right)}$"
      ],
      "text/plain": [
       "atan2(y, x)"
      ]
     },
     "execution_count": 22,
     "metadata": {},
     "output_type": "execute_result"
    }
   ],
   "source": [
    "phi_exp = sp.atan2(y, x)\n",
    "phi_exp"
   ]
  },
  {
   "cell_type": "code",
   "execution_count": 23,
   "id": "407b9fd8-d2d2-40eb-887d-1f8146ec91f4",
   "metadata": {},
   "outputs": [
    {
     "data": {
      "text/latex": [
       "$\\displaystyle z$"
      ],
      "text/plain": [
       "z"
      ]
     },
     "execution_count": 23,
     "metadata": {},
     "output_type": "execute_result"
    }
   ],
   "source": [
    "zi_exp = z\n",
    "zi_exp"
   ]
  },
  {
   "cell_type": "code",
   "execution_count": 24,
   "id": "b02cbeb4-e75a-4750-85bb-8fcd6c2c3ccb",
   "metadata": {},
   "outputs": [
    {
     "data": {
      "text/latex": [
       "$\\displaystyle - \\frac{a \\left(x^{2} + y^{2}\\right)}{a f y - f p y z - \\left(a - p z\\right) \\sqrt{x^{2} + y^{2}}}$"
      ],
      "text/plain": [
       "-a*(x**2 + y**2)/(a*f*y - f*p*y*z - (a - p*z)*sqrt(x**2 + y**2))"
      ]
     },
     "execution_count": 24,
     "metadata": {},
     "output_type": "execute_result"
    }
   ],
   "source": [
    "rho_exp = sp.solve(x_exp-x, rho)[0].subs(phi, phi_exp).subs(xi, xi_exp).simplify()\n",
    "rho_exp"
   ]
  },
  {
   "cell_type": "code",
   "execution_count": 25,
   "id": "d6566f90-527f-4f94-99d4-1999049e9f42",
   "metadata": {},
   "outputs": [
    {
     "data": {
      "text/plain": [
       "{Derivative(\\Theta(x, y, z), x): a*(\\rho**2*(a - p*xi)*(f*sin(\\phi) - 1)**2*(-2*\\rho*f*p*xi*(-f*sin(\\phi) + 1)*sin(\\phi) + a*sqrt(\\rho**2*(a - p*xi)**2*(f*sin(\\phi) - 1)**2/a**2) - 2*a*(-\\rho*f*(-f*sin(\\phi) + 1)*sin(\\phi) + sqrt(\\rho**2*(a - p*xi)**2*(f*sin(\\phi) - 1)**2/a**2)))*cos(\\phi)*Derivative(\\Theta(\\rho, \\phi, xi), \\rho) + (\\rho*f*p*xi*(-f*sin(\\phi) + 1)*sin(\\phi) + a*(-\\rho*f*(-f*sin(\\phi) + 1)*sin(\\phi) + sqrt(\\rho**2*(a - p*xi)**2*(f*sin(\\phi) - 1)**2/a**2)))**2*sin(\\phi)*Derivative(\\Theta(\\rho, \\phi, xi), \\phi))/(\\rho*(a - p*xi)*(f*sin(\\phi) - 1)*(\\rho*f*p*xi*(-f*sin(\\phi) + 1)*sin(\\phi) + a*(-\\rho*f*(-f*sin(\\phi) + 1)*sin(\\phi) + sqrt(\\rho**2*(a - p*xi)**2*(f*sin(\\phi) - 1)**2/a**2)))**2),\n",
       " Derivative(\\Theta(x, y, z), y): (\\rho**2*(a - p*xi)*(f*sin(\\phi) - 1)**2*(\\rho*(a - p*xi)*(f*sin(\\phi) - 1)*(\\rho*(a - p*xi)*(f*sin(\\phi) - 1)*sin(\\phi) + a*f*sqrt(\\rho**2*(a - p*xi)**2*(f*sin(\\phi) - 1)**2/a**2)) - 2*a*sqrt(\\rho**2*(a - p*xi)**2*(f*sin(\\phi) - 1)**2/a**2)*(-\\rho*f*p*xi*(f*sin(\\phi) - 1)*sin(\\phi) + a*(\\rho*f*(f*sin(\\phi) - 1)*sin(\\phi) + sqrt(\\rho**2*(a - p*xi)**2*(f*sin(\\phi) - 1)**2/a**2)))*sin(\\phi))*Derivative(\\Theta(\\rho, \\phi, xi), \\rho) - a*sqrt(\\rho**2*(a - p*xi)**2*(f*sin(\\phi) - 1)**2/a**2)*(\\rho*f*p*xi*(f*sin(\\phi) - 1)*sin(\\phi) - a*(\\rho*f*(f*sin(\\phi) - 1)*sin(\\phi) + sqrt(\\rho**2*(a - p*xi)**2*(f*sin(\\phi) - 1)**2/a**2)))**2*cos(\\phi)*Derivative(\\Theta(\\rho, \\phi, xi), \\phi))/(\\rho*sqrt(\\rho**2*(a - p*xi)**2*(f*sin(\\phi) - 1)**2/a**2)*(a - p*xi)*(f*sin(\\phi) - 1)*(\\rho*f*p*xi*(f*sin(\\phi) - 1)*sin(\\phi) - a*(\\rho*f*(f*sin(\\phi) - 1)*sin(\\phi) + sqrt(\\rho**2*(a - p*xi)**2*(f*sin(\\phi) - 1)**2/a**2)))**2),\n",
       " Derivative(\\Theta(x, y, z), z): (\\rho**2*p*(f*sin(\\phi) - 1)**2*(\\rho*f*(a - p*xi)*(f*sin(\\phi) - 1)*sin(\\phi) + a*sqrt(\\rho**2*(a - p*xi)**2*(f*sin(\\phi) - 1)**2/a**2))*Derivative(\\Theta(\\rho, \\phi, xi), \\rho) + (-\\rho*f*p*xi*(f*sin(\\phi) - 1)*sin(\\phi) + a*(\\rho*f*(f*sin(\\phi) - 1)*sin(\\phi) + sqrt(\\rho**2*(a - p*xi)**2*(f*sin(\\phi) - 1)**2/a**2)))**2*Derivative(\\Theta(\\rho, \\phi, xi), xi))/(-\\rho*f*p*xi*(f*sin(\\phi) - 1)*sin(\\phi) + a*(\\rho*f*(f*sin(\\phi) - 1)*sin(\\phi) + sqrt(\\rho**2*(a - p*xi)**2*(f*sin(\\phi) - 1)**2/a**2)))**2}"
      ]
     },
     "execution_count": 25,
     "metadata": {},
     "output_type": "execute_result"
    }
   ],
   "source": [
    "fot = compute_first_order_transformation(th, [x, y, z], [rho, phi, xi], [x_exp, y_exp, z_exp], [rho_exp, phi_exp, xi_exp])\n",
    "fot"
   ]
  },
  {
   "cell_type": "code",
   "execution_count": 26,
   "id": "20d13407-6b19-4784-a065-340e2a602068",
   "metadata": {},
   "outputs": [
    {
     "data": {
      "text/latex": [
       "$\\displaystyle \\left[\\begin{matrix}\\frac{a \\left(\\rho^{2} \\left(a - p \\xi\\right) \\left(f \\sin{\\left(\\phi \\right)} - 1\\right)^{2} \\left(- 2 \\rho f p \\xi \\left(- f \\sin{\\left(\\phi \\right)} + 1\\right) \\sin{\\left(\\phi \\right)} + a \\sqrt{\\frac{\\rho^{2} \\left(a - p \\xi\\right)^{2} \\left(f \\sin{\\left(\\phi \\right)} - 1\\right)^{2}}{a^{2}}} - 2 a \\left(- \\rho f \\left(- f \\sin{\\left(\\phi \\right)} + 1\\right) \\sin{\\left(\\phi \\right)} + \\sqrt{\\frac{\\rho^{2} \\left(a - p \\xi\\right)^{2} \\left(f \\sin{\\left(\\phi \\right)} - 1\\right)^{2}}{a^{2}}}\\right)\\right) \\cos{\\left(\\phi \\right)} \\frac{\\partial}{\\partial \\rho} \\Theta{\\left(\\rho,\\phi,\\xi \\right)} + \\left(\\rho f p \\xi \\left(- f \\sin{\\left(\\phi \\right)} + 1\\right) \\sin{\\left(\\phi \\right)} + a \\left(- \\rho f \\left(- f \\sin{\\left(\\phi \\right)} + 1\\right) \\sin{\\left(\\phi \\right)} + \\sqrt{\\frac{\\rho^{2} \\left(a - p \\xi\\right)^{2} \\left(f \\sin{\\left(\\phi \\right)} - 1\\right)^{2}}{a^{2}}}\\right)\\right)^{2} \\sin{\\left(\\phi \\right)} \\frac{\\partial}{\\partial \\phi} \\Theta{\\left(\\rho,\\phi,\\xi \\right)}\\right)}{\\rho \\left(a - p \\xi\\right) \\left(f \\sin{\\left(\\phi \\right)} - 1\\right) \\left(\\rho f p \\xi \\left(- f \\sin{\\left(\\phi \\right)} + 1\\right) \\sin{\\left(\\phi \\right)} + a \\left(- \\rho f \\left(- f \\sin{\\left(\\phi \\right)} + 1\\right) \\sin{\\left(\\phi \\right)} + \\sqrt{\\frac{\\rho^{2} \\left(a - p \\xi\\right)^{2} \\left(f \\sin{\\left(\\phi \\right)} - 1\\right)^{2}}{a^{2}}}\\right)\\right)^{2}}\\\\\\frac{\\rho^{2} \\left(a - p \\xi\\right) \\left(f \\sin{\\left(\\phi \\right)} - 1\\right)^{2} \\left(\\rho \\left(a - p \\xi\\right) \\left(f \\sin{\\left(\\phi \\right)} - 1\\right) \\left(\\rho \\left(a - p \\xi\\right) \\left(f \\sin{\\left(\\phi \\right)} - 1\\right) \\sin{\\left(\\phi \\right)} + a f \\sqrt{\\frac{\\rho^{2} \\left(a - p \\xi\\right)^{2} \\left(f \\sin{\\left(\\phi \\right)} - 1\\right)^{2}}{a^{2}}}\\right) - 2 a \\sqrt{\\frac{\\rho^{2} \\left(a - p \\xi\\right)^{2} \\left(f \\sin{\\left(\\phi \\right)} - 1\\right)^{2}}{a^{2}}} \\left(- \\rho f p \\xi \\left(f \\sin{\\left(\\phi \\right)} - 1\\right) \\sin{\\left(\\phi \\right)} + a \\left(\\rho f \\left(f \\sin{\\left(\\phi \\right)} - 1\\right) \\sin{\\left(\\phi \\right)} + \\sqrt{\\frac{\\rho^{2} \\left(a - p \\xi\\right)^{2} \\left(f \\sin{\\left(\\phi \\right)} - 1\\right)^{2}}{a^{2}}}\\right)\\right) \\sin{\\left(\\phi \\right)}\\right) \\frac{\\partial}{\\partial \\rho} \\Theta{\\left(\\rho,\\phi,\\xi \\right)} - a \\sqrt{\\frac{\\rho^{2} \\left(a - p \\xi\\right)^{2} \\left(f \\sin{\\left(\\phi \\right)} - 1\\right)^{2}}{a^{2}}} \\left(\\rho f p \\xi \\left(f \\sin{\\left(\\phi \\right)} - 1\\right) \\sin{\\left(\\phi \\right)} - a \\left(\\rho f \\left(f \\sin{\\left(\\phi \\right)} - 1\\right) \\sin{\\left(\\phi \\right)} + \\sqrt{\\frac{\\rho^{2} \\left(a - p \\xi\\right)^{2} \\left(f \\sin{\\left(\\phi \\right)} - 1\\right)^{2}}{a^{2}}}\\right)\\right)^{2} \\cos{\\left(\\phi \\right)} \\frac{\\partial}{\\partial \\phi} \\Theta{\\left(\\rho,\\phi,\\xi \\right)}}{\\rho \\sqrt{\\frac{\\rho^{2} \\left(a - p \\xi\\right)^{2} \\left(f \\sin{\\left(\\phi \\right)} - 1\\right)^{2}}{a^{2}}} \\left(a - p \\xi\\right) \\left(f \\sin{\\left(\\phi \\right)} - 1\\right) \\left(\\rho f p \\xi \\left(f \\sin{\\left(\\phi \\right)} - 1\\right) \\sin{\\left(\\phi \\right)} - a \\left(\\rho f \\left(f \\sin{\\left(\\phi \\right)} - 1\\right) \\sin{\\left(\\phi \\right)} + \\sqrt{\\frac{\\rho^{2} \\left(a - p \\xi\\right)^{2} \\left(f \\sin{\\left(\\phi \\right)} - 1\\right)^{2}}{a^{2}}}\\right)\\right)^{2}}\\\\\\frac{\\rho^{2} p \\left(f \\sin{\\left(\\phi \\right)} - 1\\right)^{2} \\left(\\rho f \\left(a - p \\xi\\right) \\left(f \\sin{\\left(\\phi \\right)} - 1\\right) \\sin{\\left(\\phi \\right)} + a \\sqrt{\\frac{\\rho^{2} \\left(a - p \\xi\\right)^{2} \\left(f \\sin{\\left(\\phi \\right)} - 1\\right)^{2}}{a^{2}}}\\right) \\frac{\\partial}{\\partial \\rho} \\Theta{\\left(\\rho,\\phi,\\xi \\right)} + \\left(- \\rho f p \\xi \\left(f \\sin{\\left(\\phi \\right)} - 1\\right) \\sin{\\left(\\phi \\right)} + a \\left(\\rho f \\left(f \\sin{\\left(\\phi \\right)} - 1\\right) \\sin{\\left(\\phi \\right)} + \\sqrt{\\frac{\\rho^{2} \\left(a - p \\xi\\right)^{2} \\left(f \\sin{\\left(\\phi \\right)} - 1\\right)^{2}}{a^{2}}}\\right)\\right)^{2} \\frac{\\partial}{\\partial \\xi} \\Theta{\\left(\\rho,\\phi,\\xi \\right)}}{\\left(- \\rho f p \\xi \\left(f \\sin{\\left(\\phi \\right)} - 1\\right) \\sin{\\left(\\phi \\right)} + a \\left(\\rho f \\left(f \\sin{\\left(\\phi \\right)} - 1\\right) \\sin{\\left(\\phi \\right)} + \\sqrt{\\frac{\\rho^{2} \\left(a - p \\xi\\right)^{2} \\left(f \\sin{\\left(\\phi \\right)} - 1\\right)^{2}}{a^{2}}}\\right)\\right)^{2}}\\end{matrix}\\right]$"
      ],
      "text/plain": [
       "Matrix([\n",
       "[                                                                                                                                                                                                                                               a*(\\rho**2*(a - p*xi)*(f*sin(\\phi) - 1)**2*(-2*\\rho*f*p*xi*(-f*sin(\\phi) + 1)*sin(\\phi) + a*sqrt(\\rho**2*(a - p*xi)**2*(f*sin(\\phi) - 1)**2/a**2) - 2*a*(-\\rho*f*(-f*sin(\\phi) + 1)*sin(\\phi) + sqrt(\\rho**2*(a - p*xi)**2*(f*sin(\\phi) - 1)**2/a**2)))*cos(\\phi)*Derivative(\\Theta(\\rho, \\phi, xi), \\rho) + (\\rho*f*p*xi*(-f*sin(\\phi) + 1)*sin(\\phi) + a*(-\\rho*f*(-f*sin(\\phi) + 1)*sin(\\phi) + sqrt(\\rho**2*(a - p*xi)**2*(f*sin(\\phi) - 1)**2/a**2)))**2*sin(\\phi)*Derivative(\\Theta(\\rho, \\phi, xi), \\phi))/(\\rho*(a - p*xi)*(f*sin(\\phi) - 1)*(\\rho*f*p*xi*(-f*sin(\\phi) + 1)*sin(\\phi) + a*(-\\rho*f*(-f*sin(\\phi) + 1)*sin(\\phi) + sqrt(\\rho**2*(a - p*xi)**2*(f*sin(\\phi) - 1)**2/a**2)))**2)],\n",
       "[(\\rho**2*(a - p*xi)*(f*sin(\\phi) - 1)**2*(\\rho*(a - p*xi)*(f*sin(\\phi) - 1)*(\\rho*(a - p*xi)*(f*sin(\\phi) - 1)*sin(\\phi) + a*f*sqrt(\\rho**2*(a - p*xi)**2*(f*sin(\\phi) - 1)**2/a**2)) - 2*a*sqrt(\\rho**2*(a - p*xi)**2*(f*sin(\\phi) - 1)**2/a**2)*(-\\rho*f*p*xi*(f*sin(\\phi) - 1)*sin(\\phi) + a*(\\rho*f*(f*sin(\\phi) - 1)*sin(\\phi) + sqrt(\\rho**2*(a - p*xi)**2*(f*sin(\\phi) - 1)**2/a**2)))*sin(\\phi))*Derivative(\\Theta(\\rho, \\phi, xi), \\rho) - a*sqrt(\\rho**2*(a - p*xi)**2*(f*sin(\\phi) - 1)**2/a**2)*(\\rho*f*p*xi*(f*sin(\\phi) - 1)*sin(\\phi) - a*(\\rho*f*(f*sin(\\phi) - 1)*sin(\\phi) + sqrt(\\rho**2*(a - p*xi)**2*(f*sin(\\phi) - 1)**2/a**2)))**2*cos(\\phi)*Derivative(\\Theta(\\rho, \\phi, xi), \\phi))/(\\rho*sqrt(\\rho**2*(a - p*xi)**2*(f*sin(\\phi) - 1)**2/a**2)*(a - p*xi)*(f*sin(\\phi) - 1)*(\\rho*f*p*xi*(f*sin(\\phi) - 1)*sin(\\phi) - a*(\\rho*f*(f*sin(\\phi) - 1)*sin(\\phi) + sqrt(\\rho**2*(a - p*xi)**2*(f*sin(\\phi) - 1)**2/a**2)))**2)],\n",
       "[                                                                                                                                                                                                                                                                                                                                                                                                                           (\\rho**2*p*(f*sin(\\phi) - 1)**2*(\\rho*f*(a - p*xi)*(f*sin(\\phi) - 1)*sin(\\phi) + a*sqrt(\\rho**2*(a - p*xi)**2*(f*sin(\\phi) - 1)**2/a**2))*Derivative(\\Theta(\\rho, \\phi, xi), \\rho) + (-\\rho*f*p*xi*(f*sin(\\phi) - 1)*sin(\\phi) + a*(\\rho*f*(f*sin(\\phi) - 1)*sin(\\phi) + sqrt(\\rho**2*(a - p*xi)**2*(f*sin(\\phi) - 1)**2/a**2)))**2*Derivative(\\Theta(\\rho, \\phi, xi), xi))/(-\\rho*f*p*xi*(f*sin(\\phi) - 1)*sin(\\phi) + a*(\\rho*f*(f*sin(\\phi) - 1)*sin(\\phi) + sqrt(\\rho**2*(a - p*xi)**2*(f*sin(\\phi) - 1)**2/a**2)))**2]])"
      ]
     },
     "execution_count": 26,
     "metadata": {},
     "output_type": "execute_result"
    }
   ],
   "source": [
    "gradient = sp.Matrix([fot[th(x, y, z).diff(x)], fot[th(x, y, z).diff(y)], fot[th(x, y, z).diff(z)]])\n",
    "gradient"
   ]
  },
  {
   "cell_type": "code",
   "execution_count": 56,
   "id": "525bea4f-e82b-42e8-9e2e-d9996ef91b9a",
   "metadata": {},
   "outputs": [
    {
     "data": {
      "text/latex": [
       "$\\displaystyle \\frac{a \\left(\\rho^{2} \\left(a - p \\xi\\right) \\left(f \\sin{\\left(\\phi \\right)} - 1\\right)^{2} \\left(- 2 \\rho f p \\xi \\left(- f \\sin{\\left(\\phi \\right)} + 1\\right) \\sin{\\left(\\phi \\right)} + a \\sqrt{\\frac{\\rho^{2} \\left(a - p \\xi\\right)^{2} \\left(f \\sin{\\left(\\phi \\right)} - 1\\right)^{2}}{a^{2}}} - 2 a \\left(- \\rho f \\left(- f \\sin{\\left(\\phi \\right)} + 1\\right) \\sin{\\left(\\phi \\right)} + \\sqrt{\\frac{\\rho^{2} \\left(a - p \\xi\\right)^{2} \\left(f \\sin{\\left(\\phi \\right)} - 1\\right)^{2}}{a^{2}}}\\right)\\right) \\cos{\\left(\\phi \\right)} \\frac{\\partial}{\\partial \\rho} \\Theta{\\left(\\rho,\\phi,\\xi \\right)} + \\left(\\rho f p \\xi \\left(- f \\sin{\\left(\\phi \\right)} + 1\\right) \\sin{\\left(\\phi \\right)} + a \\left(- \\rho f \\left(- f \\sin{\\left(\\phi \\right)} + 1\\right) \\sin{\\left(\\phi \\right)} + \\sqrt{\\frac{\\rho^{2} \\left(a - p \\xi\\right)^{2} \\left(f \\sin{\\left(\\phi \\right)} - 1\\right)^{2}}{a^{2}}}\\right)\\right)^{2} \\sin{\\left(\\phi \\right)} \\frac{\\partial}{\\partial \\phi} \\Theta{\\left(\\rho,\\phi,\\xi \\right)}\\right)}{\\rho \\left(a - p \\xi\\right) \\left(f \\sin{\\left(\\phi \\right)} - 1\\right) \\left(\\rho f p \\xi \\left(- f \\sin{\\left(\\phi \\right)} + 1\\right) \\sin{\\left(\\phi \\right)} + a \\left(- \\rho f \\left(- f \\sin{\\left(\\phi \\right)} + 1\\right) \\sin{\\left(\\phi \\right)} + \\sqrt{\\frac{\\rho^{2} \\left(a - p \\xi\\right)^{2} \\left(f \\sin{\\left(\\phi \\right)} - 1\\right)^{2}}{a^{2}}}\\right)\\right)^{2}}$"
      ],
      "text/plain": [
       "a*(\\rho**2*(a - p*xi)*(f*sin(\\phi) - 1)**2*(-2*\\rho*f*p*xi*(-f*sin(\\phi) + 1)*sin(\\phi) + a*sqrt(\\rho**2*(a - p*xi)**2*(f*sin(\\phi) - 1)**2/a**2) - 2*a*(-\\rho*f*(-f*sin(\\phi) + 1)*sin(\\phi) + sqrt(\\rho**2*(a - p*xi)**2*(f*sin(\\phi) - 1)**2/a**2)))*cos(\\phi)*Derivative(\\Theta(\\rho, \\phi, xi), \\rho) + (\\rho*f*p*xi*(-f*sin(\\phi) + 1)*sin(\\phi) + a*(-\\rho*f*(-f*sin(\\phi) + 1)*sin(\\phi) + sqrt(\\rho**2*(a - p*xi)**2*(f*sin(\\phi) - 1)**2/a**2)))**2*sin(\\phi)*Derivative(\\Theta(\\rho, \\phi, xi), \\phi))/(\\rho*(a - p*xi)*(f*sin(\\phi) - 1)*(\\rho*f*p*xi*(-f*sin(\\phi) + 1)*sin(\\phi) + a*(-\\rho*f*(-f*sin(\\phi) + 1)*sin(\\phi) + sqrt(\\rho**2*(a - p*xi)**2*(f*sin(\\phi) - 1)**2/a**2)))**2)"
      ]
     },
     "execution_count": 56,
     "metadata": {},
     "output_type": "execute_result"
    }
   ],
   "source": [
    "g1 = sp.refine(gradient[0], sp.Q.positive(a))\n",
    "g1"
   ]
  },
  {
   "cell_type": "code",
   "execution_count": 52,
   "id": "00c03b6c-cb8a-4740-b722-85ef05b03e16",
   "metadata": {},
   "outputs": [
    {
     "data": {
      "text/latex": [
       "$\\displaystyle \\left[\\begin{matrix}x^{2.0} & y\\\\y & z\\end{matrix}\\right]$"
      ],
      "text/plain": [
       "Matrix([\n",
       "[x**2.0, y],\n",
       "[     y, z]])"
      ]
     },
     "execution_count": 52,
     "metadata": {},
     "output_type": "execute_result"
    }
   ],
   "source": [
    "def build_gradient_coefficient_matrix(gradient: sp.Matrix, function: sp.Function, variables: List[sp.Symbol], assumptions: Optional[List] = None) -> sp.Matrix:\n",
    "    \"\"\"This function takes a computed gradient and finds the coefficients. Assumes a linear relation between the function's derivatives and the gradient.\"\"\"\n",
    "    coefficient_matrix = []\n",
    "    for component in gradient:\n",
    "        expanded_component = component.expand()\n",
    "        coefficient_vector = []\n",
    "        for variable in variables:\n",
    "            function_derivative = function(*variables).diff(variable)\n",
    "            coefficient = expanded_component.coeff(function_derivative, 1)\n",
    "            if assumptions:\n",
    "                for assumption in assumptions:\n",
    "                    coefficient = sp.refine(coefficient, assumption)\n",
    "            else:\n",
    "                coefficient = coefficient.simplify()\n",
    "            coefficient_vector.append(coefficient.refine())\n",
    "        \n",
    "        coefficient_matrix.append(coefficient_vector)\n",
    "    \n",
    "    return sp.Matrix(coefficient_matrix)\n",
    "\n",
    "# test with a simple function first\n",
    "func = sp.Function(\"F\")\n",
    "grad = sp.Matrix([\n",
    "    x**2.0 * func(x,y).diff(x) + y*func(x,y).diff(y),\n",
    "    y * func(x,y).diff(x) + z*func(x,y).diff(y),\n",
    "])\n",
    "build_gradient_coefficient_matrix(grad, func, [x, y])"
   ]
  },
  {
   "cell_type": "code",
   "execution_count": 57,
   "id": "9eeac9b4-f9fe-4092-81d2-d2a4cb11fd4c",
   "metadata": {},
   "outputs": [
    {
     "name": "stdout",
     "output_type": "stream",
     "text": [
      "Matrix([[a*(-2*\\rho*a*f**2*sin(\\phi)**2 + 2*\\rho*a*f*sin(\\phi) + 2*\\rho*f**2*p*xi*sin(\\phi)**2 - 2*\\rho*f*p*xi*sin(\\phi) - a*sqrt(\\rho**2*(-a + p*xi)**2*(f*sin(\\phi) - 1)**2/a**2))*cos(\\phi)/(\\rho*a**2*f**3*sin(\\phi)**3 - \\rho*a**2*f**2*sin(\\phi)**2 + \\rho*a**2*f*sin(\\phi) - \\rho*a**2 - 2*\\rho*a*f**3*p*xi*sin(\\phi)**3 + 2*\\rho*a*f**2*p*xi*sin(\\phi)**2 - 2*\\rho*a*f*p*xi*sin(\\phi) + 2*\\rho*a*p*xi + \\rho*f**3*p**2*xi**2*sin(\\phi)**3 - \\rho*f**2*p**2*xi**2*sin(\\phi)**2 + \\rho*f*p**2*xi**2*sin(\\phi) - \\rho*p**2*xi**2 + 2*a**2*f*sqrt(\\rho**2*(-a + p*xi)**2*(f*sin(\\phi) - 1)**2/a**2)*sin(\\phi) - 2*a*f*p*xi*sqrt(\\rho**2*(-a + p*xi)**2*(f*sin(\\phi) - 1)**2/a**2)*sin(\\phi)), a*sin(\\phi)/(\\rho*(a*f*sin(\\phi) - a - f*p*xi*sin(\\phi) + p*xi)), 0], [a*(-\\rho*a*f*sin(\\phi)**2 + \\rho*a*sin(\\phi) + \\rho*f*p*xi*sin(\\phi)**2 - \\rho*p*xi*sin(\\phi) - 2*a*f*sqrt(\\rho**2*(-a + p*xi)**2*(f*sin(\\phi) - 1)**2/a**2)*sin(\\phi)**2 + a*f*sqrt(\\rho**2*(-a + p*xi)**2*(f*sin(\\phi) - 1)**2/a**2))/(2*\\rho*a**2*f**2*sin(\\phi)**2 - 2*\\rho*a**2*f*sin(\\phi) - 4*\\rho*a*f**2*p*xi*sin(\\phi)**2 + 4*\\rho*a*f*p*xi*sin(\\phi) + 2*\\rho*f**2*p**2*xi**2*sin(\\phi)**2 - 2*\\rho*f*p**2*xi**2*sin(\\phi) + a**2*f**2*sqrt(\\rho**2*(-a + p*xi)**2*(f*sin(\\phi) - 1)**2/a**2)*sin(\\phi)**2 + a**2*sqrt(\\rho**2*(-a + p*xi)**2*(f*sin(\\phi) - 1)**2/a**2) - a*f**2*p*xi*sqrt(\\rho**2*(-a + p*xi)**2*(f*sin(\\phi) - 1)**2/a**2)*sin(\\phi)**2 - a*p*xi*sqrt(\\rho**2*(-a + p*xi)**2*(f*sin(\\phi) - 1)**2/a**2)), a*cos(\\phi)/(\\rho*(-a*f*sin(\\phi) + a + f*p*xi*sin(\\phi) - p*xi)), 0], [\\rho*p*(\\rho*a*f**3*sin(\\phi)**3 - 2*\\rho*a*f**2*sin(\\phi)**2 + \\rho*a*f*sin(\\phi) - \\rho*f**3*p*xi*sin(\\phi)**3 + 2*\\rho*f**2*p*xi*sin(\\phi)**2 - \\rho*f*p*xi*sin(\\phi) + a*f*sqrt(\\rho**2*(-a + p*xi)**2*(f*sin(\\phi) - 1)**2/a**2)*sin(\\phi) - a*sqrt(\\rho**2*(-a + p*xi)**2*(f*sin(\\phi) - 1)**2/a**2))/(\\rho*a**2*f**3*sin(\\phi)**3 - \\rho*a**2*f**2*sin(\\phi)**2 + \\rho*a**2*f*sin(\\phi) - \\rho*a**2 - 2*\\rho*a*f**3*p*xi*sin(\\phi)**3 + 2*\\rho*a*f**2*p*xi*sin(\\phi)**2 - 2*\\rho*a*f*p*xi*sin(\\phi) + 2*\\rho*a*p*xi + \\rho*f**3*p**2*xi**2*sin(\\phi)**3 - \\rho*f**2*p**2*xi**2*sin(\\phi)**2 + \\rho*f*p**2*xi**2*sin(\\phi) - \\rho*p**2*xi**2 + 2*a**2*f*sqrt(\\rho**2*(-a + p*xi)**2*(f*sin(\\phi) - 1)**2/a**2)*sin(\\phi) - 2*a*f*p*xi*sqrt(\\rho**2*(-a + p*xi)**2*(f*sin(\\phi) - 1)**2/a**2)*sin(\\phi)), 0, 1]])\n"
     ]
    }
   ],
   "source": [
    "coefficient_matrix = build_gradient_coefficient_matrix(gradient, th, [rho, phi, xi])\n",
    "print(coefficient_matrix)"
   ]
  },
  {
   "cell_type": "code",
   "execution_count": 76,
   "id": "9113daf5-02e5-4f48-80eb-ce06cde23770",
   "metadata": {},
   "outputs": [
    {
     "data": {
      "text/latex": [
       "$\\displaystyle \\left[\\begin{matrix}\\frac{\\sqrt{\\rho^{2}} \\cos{\\left(\\phi \\right)}}{\\rho} & - \\frac{\\sin{\\left(\\phi \\right)}}{\\rho} & 0\\\\\\frac{\\rho \\sin{\\left(\\phi \\right)}}{\\sqrt{\\rho^{2}}} & \\frac{\\cos{\\left(\\phi \\right)}}{\\rho} & 0\\\\0 & 0 & 1\\end{matrix}\\right]$"
      ],
      "text/plain": [
       "Matrix([\n",
       "[sqrt(\\rho**2)*cos(\\phi)/\\rho, -sin(\\phi)/\\rho, 0],\n",
       "[\\rho*sin(\\phi)/sqrt(\\rho**2),  cos(\\phi)/\\rho, 0],\n",
       "[                           0,               0, 1]])"
      ]
     },
     "execution_count": 76,
     "metadata": {},
     "output_type": "execute_result"
    }
   ],
   "source": [
    "#check the assymptotic behavior\n",
    "assymptotic_matrix = coefficient_matrix.subs(f, 0.0).subs(p, 0.0)\n",
    "assymptotic_matrix "
   ]
  },
  {
   "cell_type": "code",
   "execution_count": 79,
   "id": "d579b664-1969-4807-8457-44f496a7af49",
   "metadata": {},
   "outputs": [
    {
     "data": {
      "text/latex": [
       "$\\displaystyle \\left[\\begin{matrix}\\frac{\\rho \\cos{\\left(\\phi \\right)}}{\\sqrt{\\rho^{2}}} & \\frac{\\rho \\sin{\\left(\\phi \\right)}}{\\sqrt{\\rho^{2}}} & 0\\end{matrix}\\right]$"
      ],
      "text/plain": [
       "Matrix([[\\rho*cos(\\phi)/sqrt(\\rho**2), \\rho*sin(\\phi)/sqrt(\\rho**2), 0]])"
      ]
     },
     "execution_count": 79,
     "metadata": {},
     "output_type": "execute_result"
    }
   ],
   "source": [
    "assymptotic_normal = n.subs(f, 0.0).subs(p, 0.0)\n",
    "assymptotic_normal /= sp.sqrt(assymptotic_normal.dot(assymptotic_normal))\n",
    "assymptotic_normal.simplify()\n",
    "assymptotic_normal.transpose()"
   ]
  },
  {
   "cell_type": "code",
   "execution_count": 80,
   "id": "53797338-f020-4989-8a6c-b374a667ed03",
   "metadata": {},
   "outputs": [
    {
     "data": {
      "text/latex": [
       "$\\displaystyle \\left[\\begin{matrix}\\frac{\\rho^{2} \\sin^{2}{\\left(\\phi \\right)}}{\\rho^{2}} + \\cos^{2}{\\left(\\phi \\right)} & 0 & 0\\end{matrix}\\right]$"
      ],
      "text/plain": [
       "Matrix([[\\rho**2*sin(\\phi)**2/\\rho**2 + cos(\\phi)**2, 0, 0]])"
      ]
     },
     "execution_count": 80,
     "metadata": {},
     "output_type": "execute_result"
    }
   ],
   "source": [
    "(assymptotic_normal.transpose() * assymptotic_matrix)"
   ]
  },
  {
   "cell_type": "code",
   "execution_count": 81,
   "id": "3f634a60-a49c-4aef-89ee-0da29a965a92",
   "metadata": {},
   "outputs": [
    {
     "name": "stdout",
     "output_type": "stream",
     "text": [
      "Coefficient Matrix for radial boundary condition\n",
      "A_00:\n",
      "\ta*(-2*\\rho*a*f**2*sin(\\phi)**2 + 2*\\rho*a*f*sin(\\phi) + 2*\\rho*f**2*p*xi*sin(\\phi)**2 - 2*\\rho*f*p*xi*sin(\\phi) - a*sqrt(\\rho**2*(-a + p*xi)**2*(f*sin(\\phi) - 1)**2/a**2))*cos(\\phi)/(\\rho*a**2*f**3*sin(\\phi)**3 - \\rho*a**2*f**2*sin(\\phi)**2 + \\rho*a**2*f*sin(\\phi) - \\rho*a**2 - 2*\\rho*a*f**3*p*xi*sin(\\phi)**3 + 2*\\rho*a*f**2*p*xi*sin(\\phi)**2 - 2*\\rho*a*f*p*xi*sin(\\phi) + 2*\\rho*a*p*xi + \\rho*f**3*p**2*xi**2*sin(\\phi)**3 - \\rho*f**2*p**2*xi**2*sin(\\phi)**2 + \\rho*f*p**2*xi**2*sin(\\phi) - \\rho*p**2*xi**2 + 2*a**2*f*sqrt(\\rho**2*(-a + p*xi)**2*(f*sin(\\phi) - 1)**2/a**2)*sin(\\phi) - 2*a*f*p*xi*sqrt(\\rho**2*(-a + p*xi)**2*(f*sin(\\phi) - 1)**2/a**2)*sin(\\phi))\n",
      "\n",
      "A_01:\n",
      "\ta*sin(\\phi)/(\\rho*(a*f*sin(\\phi) - a - f*p*xi*sin(\\phi) + p*xi))\n",
      "\n",
      "A_02:\n",
      "\t0\n",
      "\n",
      "A_10:\n",
      "\ta*(-\\rho*a*f*sin(\\phi)**2 + \\rho*a*sin(\\phi) + \\rho*f*p*xi*sin(\\phi)**2 - \\rho*p*xi*sin(\\phi) - 2*a*f*sqrt(\\rho**2*(-a + p*xi)**2*(f*sin(\\phi) - 1)**2/a**2)*sin(\\phi)**2 + a*f*sqrt(\\rho**2*(-a + p*xi)**2*(f*sin(\\phi) - 1)**2/a**2))/(2*\\rho*a**2*f**2*sin(\\phi)**2 - 2*\\rho*a**2*f*sin(\\phi) - 4*\\rho*a*f**2*p*xi*sin(\\phi)**2 + 4*\\rho*a*f*p*xi*sin(\\phi) + 2*\\rho*f**2*p**2*xi**2*sin(\\phi)**2 - 2*\\rho*f*p**2*xi**2*sin(\\phi) + a**2*f**2*sqrt(\\rho**2*(-a + p*xi)**2*(f*sin(\\phi) - 1)**2/a**2)*sin(\\phi)**2 + a**2*sqrt(\\rho**2*(-a + p*xi)**2*(f*sin(\\phi) - 1)**2/a**2) - a*f**2*p*xi*sqrt(\\rho**2*(-a + p*xi)**2*(f*sin(\\phi) - 1)**2/a**2)*sin(\\phi)**2 - a*p*xi*sqrt(\\rho**2*(-a + p*xi)**2*(f*sin(\\phi) - 1)**2/a**2))\n",
      "\n",
      "A_11:\n",
      "\ta*cos(\\phi)/(\\rho*(-a*f*sin(\\phi) + a + f*p*xi*sin(\\phi) - p*xi))\n",
      "\n",
      "A_12:\n",
      "\t0\n",
      "\n",
      "A_20:\n",
      "\t\\rho*p*(\\rho*a*f**3*sin(\\phi)**3 - 2*\\rho*a*f**2*sin(\\phi)**2 + \\rho*a*f*sin(\\phi) - \\rho*f**3*p*xi*sin(\\phi)**3 + 2*\\rho*f**2*p*xi*sin(\\phi)**2 - \\rho*f*p*xi*sin(\\phi) + a*f*sqrt(\\rho**2*(-a + p*xi)**2*(f*sin(\\phi) - 1)**2/a**2)*sin(\\phi) - a*sqrt(\\rho**2*(-a + p*xi)**2*(f*sin(\\phi) - 1)**2/a**2))/(\\rho*a**2*f**3*sin(\\phi)**3 - \\rho*a**2*f**2*sin(\\phi)**2 + \\rho*a**2*f*sin(\\phi) - \\rho*a**2 - 2*\\rho*a*f**3*p*xi*sin(\\phi)**3 + 2*\\rho*a*f**2*p*xi*sin(\\phi)**2 - 2*\\rho*a*f*p*xi*sin(\\phi) + 2*\\rho*a*p*xi + \\rho*f**3*p**2*xi**2*sin(\\phi)**3 - \\rho*f**2*p**2*xi**2*sin(\\phi)**2 + \\rho*f*p**2*xi**2*sin(\\phi) - \\rho*p**2*xi**2 + 2*a**2*f*sqrt(\\rho**2*(-a + p*xi)**2*(f*sin(\\phi) - 1)**2/a**2)*sin(\\phi) - 2*a*f*p*xi*sqrt(\\rho**2*(-a + p*xi)**2*(f*sin(\\phi) - 1)**2/a**2)*sin(\\phi))\n",
      "\n",
      "A_21:\n",
      "\t0\n",
      "\n",
      "A_22:\n",
      "\t1\n",
      "\n"
     ]
    }
   ],
   "source": [
    "# now print the elements of the matrix for copy-paste\n",
    "num_rows = coefficient_matrix.shape[0]\n",
    "num_cols = coefficient_matrix.shape[1]\n",
    "print(\"Coefficient Matrix for radial boundary condition\")\n",
    "for i, j in product(range(num_rows), range(num_cols)):\n",
    "    print(f\"A_{i}{j}:\")\n",
    "    print(f\"\\t{sp.refine(coefficient_matrix[i, j], sp.Q.positive(rho))}\\n\")"
   ]
  },
  {
   "cell_type": "code",
   "execution_count": 82,
   "id": "b1717a54-a3c8-46c9-a95f-b8f32c5ca2e1",
   "metadata": {},
   "outputs": [
    {
     "name": "stdout",
     "output_type": "stream",
     "text": [
      "Unscaled Normal Vector\n",
      "n_0:\n",
      "\t\\rho*(a - p*xi)*(-f*sin(2*\\phi) + cos(\\phi))/a\n",
      "\n",
      "n_1:\n",
      "\t\\rho*(a - p*xi)*(-2*f*sin(\\phi)**2 + f + sin(\\phi))/a\n",
      "\n",
      "n_2:\n",
      "\t\\rho**2*p*(a - p*xi)*(f*sin(\\phi) - 1)**2/a**2\n",
      "\n"
     ]
    }
   ],
   "source": [
    "# now print the elements of the matrix for copy-paste\n",
    "num_rows = n.shape[0]\n",
    "print(\"Unscaled Normal Vector\")\n",
    "for i in range(num_rows):\n",
    "    print(f\"n_{i}:\")\n",
    "    print(f\"\\t{sp.refine(n[i], sp.Q.positive(rho))}\\n\")"
   ]
  },
  {
   "cell_type": "code",
   "execution_count": null,
   "id": "4fce100b-7632-42cf-a661-4c20c0208e46",
   "metadata": {},
   "outputs": [],
   "source": []
  }
 ],
 "metadata": {
  "kernelspec": {
   "display_name": "Python 3",
   "language": "python",
   "name": "python3"
  },
  "language_info": {
   "codemirror_mode": {
    "name": "ipython",
    "version": 3
   },
   "file_extension": ".py",
   "mimetype": "text/x-python",
   "name": "python",
   "nbconvert_exporter": "python",
   "pygments_lexer": "ipython3",
   "version": "3.9.4"
  }
 },
 "nbformat": 4,
 "nbformat_minor": 5
}
